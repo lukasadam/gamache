{
 "cells": [
  {
   "cell_type": "markdown",
   "id": "0",
   "metadata": {},
   "source": [
    "# GAM-based fitting with random effects\n"
   ]
  },
  {
   "cell_type": "markdown",
   "id": "1",
   "metadata": {},
   "source": [
    "## Load libraries"
   ]
  },
  {
   "cell_type": "code",
   "execution_count": 47,
   "id": "2",
   "metadata": {},
   "outputs": [],
   "source": [
    "import mssm as ms\n",
    "import warnings\n",
    "import gamache as gm\n",
    "import numpy as np\n",
    "import pandas as pd\n",
    "import scanpy as sc\n",
    "import seaborn as sns\n",
    "import matplotlib.pyplot as plt\n",
    "import mssm\n",
    "from scipy import stats\n",
    "import numpy as np\n",
    "import pandas as pd\n",
    "from numpy.linalg import inv, cholesky\n",
    "from scipy.linalg import cho_solve\n"
   ]
  },
  {
   "cell_type": "code",
   "execution_count": 55,
   "id": "9a820812",
   "metadata": {},
   "outputs": [],
   "source": [
    "class NegBin(mssm.models.Family):\n",
    "   \"\"\"\n",
    "   Negative Binomial (NB2) Family (Poisson–Gamma mixture).\n",
    "\n",
    "   We assume: Y_i ~ NB(mu_i, alpha), with Var(Y_i) = mu_i + alpha * mu_i^2.\n",
    "   Here we use the NB2 parameterization where the dispersion alpha = 1 / size.\n",
    "\n",
    "   Internally, scipy's nbinom is parameterized by (n, p) with pmf:\n",
    "       P(Y=k) = C(k+n-1, k) * p^n * (1-p)^k\n",
    "   and mean/var:\n",
    "       E[Y] = n * (1-p) / p\n",
    "       Var[Y] = n * (1-p) / p^2 = mu + mu^2 / n\n",
    "\n",
    "   Thus:\n",
    "       n = 1 / alpha\n",
    "       p = n / (n + mu) = 1 / (1 + alpha * mu)\n",
    "\n",
    "   Notes\n",
    "   -----\n",
    "   - `scale` in this Family is the NB dispersion alpha.\n",
    "   - If `scale` is None, likelihood methods require providing `alpha` explicitly\n",
    "     via kwargs (defaulted to 1.0 below to stay usable).\n",
    "   - Common link is log (not canonical), so default link = LOG().\n",
    "\n",
    "   References:\n",
    "     - Hilbe, J. M. (2011). Negative Binomial Regression.\n",
    "     - McCullagh & Nelder (1989). Generalized Linear Models.\n",
    "     - Wood (2017). Generalized Additive Models.\n",
    "   \"\"\"\n",
    "\n",
    "   def __init__(self, link: mssm.models.Link = mssm.models.LOG(), scale: float | None = None) -> None:\n",
    "      super().__init__(link, True, scale)\n",
    "      self.is_canonical: bool = False  # log link is common but not canonical\n",
    "\n",
    "   # --- Variance function and its derivative (NB2) ---\n",
    "   def V(self, mu: np.ndarray) -> np.ndarray:\n",
    "      \"\"\"\n",
    "      Var(Y|mu) = mu + alpha * mu^2\n",
    "      \"\"\"\n",
    "      alpha = 1.0 if (self.scale is None) else float(self.scale)\n",
    "      return mu + alpha * np.power(mu, 2)\n",
    "\n",
    "   def dVy1(self, mu: np.ndarray) -> np.ndarray:\n",
    "      \"\"\"\n",
    "      d Var / d mu = 1 + 2 * alpha * mu\n",
    "      \"\"\"\n",
    "      alpha = 1.0 if (self.scale is None) else float(self.scale)\n",
    "      return 1.0 + 2.0 * alpha * mu\n",
    "\n",
    "   # --- Log-likelihood / log-pmf ---\n",
    "   def _alpha(self, alpha_kw: float | None) -> float:\n",
    "      if alpha_kw is not None:\n",
    "         return float(alpha_kw)\n",
    "      if self.scale is not None:\n",
    "         return float(self.scale)\n",
    "      # Fallback to 1.0 so methods remain usable without explicit scale\n",
    "      return 1.0\n",
    "\n",
    "   @staticmethod\n",
    "   def _nb_n_p_from_mu_alpha(mu: np.ndarray, alpha: float) -> tuple[np.ndarray, np.ndarray]:\n",
    "      \"\"\"\n",
    "      Convert (mu, alpha) -> (n, p) for scipy.stats.nbinom\n",
    "      n = 1/alpha; p = n / (n + mu) = 1 / (1 + alpha * mu)\n",
    "      \"\"\"\n",
    "      # Guard alpha\n",
    "      a = max(alpha, np.finfo(float).tiny)\n",
    "      n = 1.0 / a\n",
    "      with warnings.catch_warnings():\n",
    "         warnings.simplefilter(\"ignore\")\n",
    "         p = 1.0 / (1.0 + a * mu)\n",
    "      # Clamp p into (0,1) to avoid numerical issues\n",
    "      p = np.clip(p, np.finfo(float).tiny, 1.0 - np.finfo(float).eps)\n",
    "      return n, p\n",
    "\n",
    "   def lp(self, y: np.ndarray, mu: np.ndarray, alpha: float | None = None) -> np.ndarray:\n",
    "      \"\"\"\n",
    "      Log-probability of each observation under NB2 with mean=mu and dispersion=alpha.\n",
    "\n",
    "      Parameters\n",
    "      ----------\n",
    "      y : np.ndarray\n",
    "          Observed non-negative integer counts (shape (-1,1) or (-1,))\n",
    "      mu : np.ndarray\n",
    "          Mean vector (same shape as y)\n",
    "      alpha : float, optional\n",
    "          Dispersion; if omitted, falls back to self.scale or 1.0\n",
    "      \"\"\"\n",
    "      a = self._alpha(alpha)\n",
    "      n, p = self._nb_n_p_from_mu_alpha(mu, a)\n",
    "      # scipy expects y as integers; let scipy handle domain warnings\n",
    "      return scp.stats.nbinom.logpmf(y, n, p)\n",
    "\n",
    "   def llk(self, y: np.ndarray, mu: np.ndarray, alpha: float | None = None) -> float:\n",
    "      \"\"\"\n",
    "      Sum of log pmf values (log-likelihood).\n",
    "      \"\"\"\n",
    "      return float(np.sum(self.lp(y, mu, alpha)))\n",
    "\n",
    "   # --- Deviance (NB2) ---\n",
    "   # per-observation deviance contribution:\n",
    "   # D_i = 2 * [ y_i * log(y_i / mu_i) - (y_i + 1/alpha) * log( (y_i + 1/alpha) / (mu_i + 1/alpha) ) ]\n",
    "   # with the convention 0 * log(0/.) := 0\n",
    "   @staticmethod\n",
    "   def _nb2_D_vec(y: np.ndarray, mu: np.ndarray, alpha: float) -> np.ndarray:\n",
    "      n = 1.0 / max(alpha, np.finfo(float).tiny)  # size\n",
    "      y = y.astype(float)\n",
    "      mu = mu.astype(float)\n",
    "\n",
    "      with warnings.catch_warnings():\n",
    "         warnings.simplefilter(\"ignore\")\n",
    "         term1 = y * (np.log(y) - np.log(mu))\n",
    "         term2 = (y + n) * (np.log(y + n) - np.log(mu + n))\n",
    "\n",
    "      # Handle limits: when y==0, y*log(y/mu) -> 0\n",
    "      term1[~np.isfinite(term1)] = 0.0\n",
    "      term2[~np.isfinite(term2)] = 0.0\n",
    "\n",
    "      return 2.0 * (term1 - term2)\n",
    "\n",
    "   def D(self, y: np.ndarray, mu: np.ndarray, alpha: float | None = None) -> np.ndarray:\n",
    "      \"\"\"\n",
    "      Per-observation deviance contributions for NB2.\n",
    "      If alpha is not provided and self.scale is None, defaults to 1.0.\n",
    "      \"\"\"\n",
    "      a = self._alpha(alpha)\n",
    "      return self._nb2_D_vec(y, mu, a)\n",
    "\n",
    "   def deviance(self, y: np.ndarray, mu: np.ndarray, alpha: float | None = None) -> float:\n",
    "      \"\"\"\n",
    "      Total deviance for NB2.\n",
    "      \"\"\"\n",
    "      return float(np.sum(self.D(y, mu, alpha)))\n",
    "\n",
    "   # --- Initialization for mu (optional but handy) ---\n",
    "   def init_mu(self, y: np.ndarray) -> np.ndarray:\n",
    "      \"\"\"\n",
    "      Initialize mu by shrinking counts toward the global mean (like Poisson.init_mu),\n",
    "      which is stable for sparse/overdispersed counts.\n",
    "      \"\"\"\n",
    "      gmu = float(np.mean(y))\n",
    "      gmu = max(gmu, np.finfo(float).tiny)\n",
    "      norm = y / gmu\n",
    "      norm[norm > 1.9] = 1.9\n",
    "      norm[norm < 0.1] = 0.1\n",
    "      mu0 = gmu * norm\n",
    "      return mu0"
   ]
  },
  {
   "cell_type": "code",
   "execution_count": null,
   "id": "04030352",
   "metadata": {},
   "outputs": [
    {
     "data": {
      "application/vnd.microsoft.datawrangler.viewer.v0+json": {
       "columns": [
        {
         "name": "index",
         "rawType": "int64",
         "type": "integer"
        },
        {
         "name": "time",
         "rawType": "float64",
         "type": "float"
        },
        {
         "name": "y",
         "rawType": "int64",
         "type": "integer"
        }
       ],
       "ref": "76a608fc-351c-443e-98c5-afcfbefa6a68",
       "rows": [
        [
         "0",
         "0.0",
         "2"
        ],
        [
         "1",
         "0.002004008016032064",
         "1"
        ],
        [
         "2",
         "0.004008016032064128",
         "3"
        ],
        [
         "3",
         "0.0060120240480961915",
         "0"
        ],
        [
         "4",
         "0.008016032064128256",
         "5"
        ]
       ],
       "shape": {
        "columns": 2,
        "rows": 5
       }
      },
      "text/html": [
       "<div>\n",
       "<style scoped>\n",
       "    .dataframe tbody tr th:only-of-type {\n",
       "        vertical-align: middle;\n",
       "    }\n",
       "\n",
       "    .dataframe tbody tr th {\n",
       "        vertical-align: top;\n",
       "    }\n",
       "\n",
       "    .dataframe thead th {\n",
       "        text-align: right;\n",
       "    }\n",
       "</style>\n",
       "<table border=\"1\" class=\"dataframe\">\n",
       "  <thead>\n",
       "    <tr style=\"text-align: right;\">\n",
       "      <th></th>\n",
       "      <th>time</th>\n",
       "      <th>y</th>\n",
       "    </tr>\n",
       "  </thead>\n",
       "  <tbody>\n",
       "    <tr>\n",
       "      <th>0</th>\n",
       "      <td>0.000000</td>\n",
       "      <td>2</td>\n",
       "    </tr>\n",
       "    <tr>\n",
       "      <th>1</th>\n",
       "      <td>0.002004</td>\n",
       "      <td>1</td>\n",
       "    </tr>\n",
       "    <tr>\n",
       "      <th>2</th>\n",
       "      <td>0.004008</td>\n",
       "      <td>3</td>\n",
       "    </tr>\n",
       "    <tr>\n",
       "      <th>3</th>\n",
       "      <td>0.006012</td>\n",
       "      <td>0</td>\n",
       "    </tr>\n",
       "    <tr>\n",
       "      <th>4</th>\n",
       "      <td>0.008016</td>\n",
       "      <td>5</td>\n",
       "    </tr>\n",
       "  </tbody>\n",
       "</table>\n",
       "</div>"
      ],
      "text/plain": [
       "       time  y\n",
       "0  0.000000  2\n",
       "1  0.002004  1\n",
       "2  0.004008  3\n",
       "3  0.006012  0\n",
       "4  0.008016  5"
      ]
     },
     "execution_count": 45,
     "metadata": {},
     "output_type": "execute_result"
    }
   ],
   "source": [
    "# --- 1) Simulate NB2 data with a smooth mean over time ---\n",
    "rng = np.random.default_rng(42)\n",
    "n = 500\n",
    "time = np.linspace(0, 1, n)\n",
    "\n",
    "# true smooth on the log scale (log-link)\n",
    "eta_true = 0.2 + 0.8*np.sin(3*np.pi*time) + 0.4*np.cos(2*np.pi*time)\n",
    "mu_true = np.exp(eta_true)        # mean on response scale\n",
    "alpha_true = 0.30                 # NB dispersion (Var = mu + alpha*mu^2)\n",
    "\n",
    "# scipy nbinom params: n=1/alpha, p=1/(1+alpha*mu)\n",
    "size = 1.0 / alpha_true\n",
    "p = 1.0 / (1.0 + alpha_true * mu_true)\n",
    "y = stats.nbinom.rvs(size, p, random_state=rng)\n",
    "\n",
    "dat = pd.DataFrame({\"time\": time, \"y\": y})\n",
    "dat.head()\n",
    "\n",
    "# --- 2) Build the GAM: y ~ intercept + s(time), NB(log) ---\n",
    "formula = mssm.models.Formula(\n",
    "    lhs=mssm.models.lhs(\"y\"),\n",
    "    terms=[\n",
    "        mssm.models.i(),          # intercept\n",
    "        mssm.models.f([\"time\"]),  # smooth f(time)\n",
    "    ],\n",
    "    data=dat,\n",
    ")"
   ]
  },
  {
   "cell_type": "code",
   "execution_count": 27,
   "id": "a0529270",
   "metadata": {},
   "outputs": [],
   "source": [
    "fam = NegBin(link=ms.models.LOG(), scale=alpha_true)\n",
    "model = ms.models.GAMM(formula, fam)"
   ]
  },
  {
   "cell_type": "code",
   "execution_count": 28,
   "id": "de9aceb0",
   "metadata": {},
   "outputs": [],
   "source": [
    "# ---- 3) Fit ----\n",
    "model.fit(progress_bar=False)"
   ]
  },
  {
   "cell_type": "code",
   "execution_count": 41,
   "id": "bba68f8a",
   "metadata": {},
   "outputs": [
    {
     "name": "stdout",
     "output_type": "stream",
     "text": [
      "f(['time']); edf: 7.002 f: 85.191 P(F > f) = 0.000e+00 ***\n",
      "\n",
      "Note: p < 0.001: ***, p < 0.01: **, p < 0.05: *, p < 0.1: . p-values are approximate!\n"
     ]
    }
   ],
   "source": [
    "model.print_smooth_terms(p_values=True)"
   ]
  },
  {
   "cell_type": "code",
   "execution_count": 58,
   "id": "3702318c",
   "metadata": {},
   "outputs": [],
   "source": [
    "import numpy as np\n",
    "from scipy.sparse import issparse\n",
    "\n",
    "def nb_pointwise_ci(model, fam, new_dat, z: float = 1.96):\n",
    "    # 1) design & beta\n",
    "    _, Xnew, _ = model.predict(n_dat=new_dat, use_terms=None)\n",
    "    if issparse(Xnew):\n",
    "        X = Xnew.toarray()\n",
    "    else:\n",
    "        X = np.asarray(Xnew)\n",
    "    beta = model.coef.reshape(-1, 1)\n",
    "    eta_hat = (X @ beta).ravel()\n",
    "\n",
    "    # 2) coefficient covariance: Vβ = LVI.T @ LVI\n",
    "    LVI = model.lvi.toarray() if hasattr(model.lvi, \"toarray\") else np.asarray(model.lvi)\n",
    "    Vbeta = LVI.T @ LVI\n",
    "\n",
    "    # 3) Var(η̂) = x Vβ xᵀ (compute rowwise, no einsum on sparse)\n",
    "    XV = X @ Vbeta                    # shape (n_new, p)\n",
    "    var_eta = np.sum(XV * X, axis=1)  # rowwise dot with X (Hadamard + sum)\n",
    "    var_eta = np.maximum(var_eta, 0.0)\n",
    "    se_eta = np.sqrt(var_eta)\n",
    "\n",
    "    # 4) transform back (log link)\n",
    "    mu_hat = fam.link.fi(eta_hat)\n",
    "    lower = fam.link.fi(eta_hat - z * se_eta)\n",
    "    upper = fam.link.fi(eta_hat + z * se_eta)\n",
    "    return mu_hat, lower, upper, se_eta"
   ]
  },
  {
   "cell_type": "code",
   "execution_count": 59,
   "id": "29c74bbc",
   "metadata": {},
   "outputs": [],
   "source": [
    "# --- predict + 95% CI ---\n",
    "new_dat = pd.DataFrame({\"time\": np.linspace(0, 1, 400)})\n",
    "mu_hat, lower, upper, _ = nb_pointwise_ci(model, fam, new_dat, z=1.96)"
   ]
  },
  {
   "cell_type": "code",
   "execution_count": 60,
   "id": "b1305335",
   "metadata": {},
   "outputs": [
    {
     "data": {
      "image/png": "[encoded data removed]",
      "text/plain": [
       "<Figure size 700x400 with 1 Axes>"
      ]
     },
     "metadata": {},
     "output_type": "display_data"
    }
   ],
   "source": [
    "plt.figure(figsize=(7,4))\n",
    "plt.scatter(dat[\"time\"], dat[\"y\"], s=10, alpha=0.25, label=\"observed\")\n",
    "plt.plot(new_dat[\"time\"], mu_hat, lw=2, label=\"NB-GAM mean\")\n",
    "plt.fill_between(new_dat[\"time\"], lower, upper, alpha=0.25, label=\"95% CI\")\n",
    "plt.plot(time, mu_true, \"--\", lw=1.5, color=\"gray\", label=\"true mean\")\n",
    "plt.xlabel(\"time\")\n",
    "plt.ylabel(\"count\")\n",
    "plt.legend()\n",
    "plt.tight_layout()\n",
    "plt.show()"
   ]
  }
 ],
 "metadata": {
  "kernelspec": {
   "display_name": "gamache",
   "language": "python",
   "name": "python3"
  },
  "language_info": {
   "codemirror_mode": {
    "name": "ipython",
    "version": 3
   },
   "file_extension": ".py",
   "mimetype": "text/x-python",
   "name": "python",
   "nbconvert_exporter": "python",
   "pygments_lexer": "ipython3",
   "version": "3.13.5"
  }
 },
 "nbformat": 4,
 "nbformat_minor": 5
}
